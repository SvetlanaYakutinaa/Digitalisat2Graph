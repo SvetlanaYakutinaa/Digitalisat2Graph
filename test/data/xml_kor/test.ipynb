{
 "cells": [
  {
   "cell_type": "code",
   "execution_count": 1,
   "metadata": {},
   "outputs": [],
   "source": [
    "from lxml import etree\n",
    "\n",
    "tree = etree.parse(\"1893_Bonatz_J_A Kopie.xml\")\n",
    "NS = {\"tei\": \"http://www.tei-c.org/ns/1.0\"}\n",
    "\n",
    "xp = (\"//tei:text//tei:persName[not(ancestor::tei:s or ancestor::tei:head)]\"\n",
    "      \" | //tei:text//tei:placeName[not(ancestor::tei:s or ancestor::tei:head)]\"\n",
    "      \" | //tei:text//tei:orgName[not(ancestor::tei:s or ancestor::tei:head)]\"\n",
    "      \" | //tei:text//tei:date[not(ancestor::tei:s or ancestor::tei:head)]\")\n",
    "\n",
    "for el in tree.xpath(xp, namespaces=NS):\n",
    "    el.getparent().remove(el)\n",
    "\n",
    "tree.write(\"output.xml\", encoding=\"UTF-8\", pretty_print=True, xml_declaration=True)\n"
   ]
  },
  {
   "cell_type": "code",
   "execution_count": 3,
   "metadata": {},
   "outputs": [
    {
     "name": "stdout",
     "output_type": "stream",
     "text": [
      "Verarbeite: 1893_Bonatz_J_A Kopie.xml\n",
      "Verarbeite: 1893_Bonatz_J_A.xml\n",
      "Verarbeite: 1856_Lemmerz_J.xml\n",
      "Verarbeite: 1820_Schulz_Johann_Gottlieb.xml\n",
      "Verarbeite: 1847_Schmitt_J_H 11.08.18.xml\n",
      "Verarbeite: 1836_Küster_Johann_Adolph.xml\n",
      "Verarbeite: 1859_Fritsch_Johannes.xml\n",
      "Verarbeite: 1851_Kölbing_Friedrich.xml\n",
      "Verarbeite: 1862_Schulz_J_B.xml\n",
      "Verarbeite: 1855_Hoffmann_M_E.xml\n",
      "Verarbeite: 1862_Lemmerz_A.xml\n",
      "Verarbeite: 1889_Wedemann_J_F.xml\n",
      "Verarbeite: 1830_Bonatz_J_G.xml\n",
      "Verarbeite: 1861_Kölbing_C_R.xml\n",
      "Verarbeite: output.xml\n",
      "Verarbeite: 1884_Stuhl_S_E.xml\n",
      "Verarbeite: 1875_Breutel_J_C.xml\n",
      "Verarbeite: 1860_Suhl_D_W.xml\n",
      "Verarbeite: 1855_Stein_J_J_F.xml\n",
      "Verarbeite: 1849_Hoffman_Johannes_Friedrich.xml\n",
      "Verarbeite: 1862_Beck_J_C.xml\n",
      "Verarbeite: 1823_Bonatz_Johanna.xml\n",
      "Fertig! Alle XML-Dateien im aktuellen Ordner wurden bereinigt.\n"
     ]
    }
   ],
   "source": [
    "import os\n",
    "from lxml import etree\n",
    "\n",
    "# Aktueller Arbeitsordner (wo dein Skript gerade läuft)\n",
    "input_dir = os.getcwd()\n",
    "\n",
    "# TEI-Namespace\n",
    "NS = {\"tei\": \"http://www.tei-c.org/ns/1.0\"}\n",
    "\n",
    "# XPath-Ausdruck\n",
    "xp = (\"//tei:text//tei:persName[not(ancestor::tei:s or ancestor::tei:head)]\"\n",
    "      \" | //tei:text//tei:placeName[not(ancestor::tei:s or ancestor::tei:head)]\"\n",
    "      \" | //tei:text//tei:orgName[not(ancestor::tei:s or ancestor::tei:head)]\"\n",
    "      \" | //tei:text//tei:date[not(ancestor::tei:s or ancestor::tei:head)]\")\n",
    "\n",
    "# Alle XML-Dateien im aktuellen Ordner durchgehen\n",
    "for filename in os.listdir(input_dir):\n",
    "    if filename.lower().endswith(\".xml\"):\n",
    "        file_path = os.path.join(input_dir, filename)\n",
    "        print(f\"Verarbeite: {filename}\")\n",
    "\n",
    "        # XML laden\n",
    "        tree = etree.parse(file_path)\n",
    "\n",
    "        # Ungewünschte Elemente finden\n",
    "        elements_to_remove = tree.xpath(xp, namespaces=NS)\n",
    "\n",
    "        # Löschen\n",
    "        for el in elements_to_remove:\n",
    "            parent = el.getparent()\n",
    "            if parent is not None:\n",
    "                parent.remove(el)\n",
    "\n",
    "        # Datei überschreiben\n",
    "        tree.write(file_path, encoding=\"UTF-8\", pretty_print=True, xml_declaration=True)\n",
    "\n",
    "print(\"Fertig! Alle XML-Dateien im aktuellen Ordner wurden bereinigt.\")\n"
   ]
  },
  {
   "cell_type": "markdown",
   "metadata": {},
   "source": []
  }
 ],
 "metadata": {
  "kernelspec": {
   "display_name": "Python 3",
   "language": "python",
   "name": "python3"
  },
  "language_info": {
   "codemirror_mode": {
    "name": "ipython",
    "version": 3
   },
   "file_extension": ".py",
   "mimetype": "text/x-python",
   "name": "python",
   "nbconvert_exporter": "python",
   "pygments_lexer": "ipython3",
   "version": "3.11.11"
  }
 },
 "nbformat": 4,
 "nbformat_minor": 2
}
